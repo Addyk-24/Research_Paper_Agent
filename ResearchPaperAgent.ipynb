{
  "nbformat": 4,
  "nbformat_minor": 0,
  "metadata": {
    "colab": {
      "provenance": [],
      "authorship_tag": "ABX9TyNVWLuXRRSnTYmrSZlSoAaP"
    },
    "kernelspec": {
      "name": "python3",
      "display_name": "Python 3"
    },
    "language_info": {
      "name": "python"
    }
  },
  "cells": [
    {
      "cell_type": "code",
      "execution_count": 8,
      "metadata": {
        "id": "N_ebON6C34e6"
      },
      "outputs": [],
      "source": [
        "%pip install langchain_google_genai load_dotenv crewai crewai_tools langchain_community sentence-transformers langchain-groq langchain_huggingface --quiet"
      ]
    },
    {
      "cell_type": "code",
      "source": [
        "from google.colab import userdata\n",
        "from dotenv import load_dotenv\n",
        "from langchain_openai import ChatOpenAI\n",
        "import os\n",
        "load_dotenv()\n",
        "\n",
        "from crewai import Agent, Task, Crew\n",
        "from crewai import LLM\n",
        "os.environ['GEMINI_API_KEY'] = userdata.get('Gemini_Api')\n",
        "llm = LLM(model=\"gemini/gemini-1.5-flash\")\n",
        "# os.environ['GEMINI_API_KEY'] = userdata.get('GEMINI_API_KEY')\n",
        "os.environ['GROQ_API_KEY']=userdata.get('GROQ_API')"
      ],
      "metadata": {
        "id": "ryUFYp_c6m3B"
      },
      "execution_count": 11,
      "outputs": []
    },
    {
      "cell_type": "markdown",
      "source": [
        "TOOL"
      ],
      "metadata": {
        "id": "5WOCrJeKDvIM"
      }
    },
    {
      "cell_type": "code",
      "source": [
        "from crewai_tools import SerperDevTool\n",
        "os.environ['SERPER_API_KEY'] = userdata.get('SERPER_API_KEY')\n",
        "tool = SerperDevTool() ## Uses Live Web Search for searching information\n",
        "\n",
        "serper_tool= SerperDevTool()\n",
        "data = serper_tool.run(search_query=\"Deep learning\")\n",
        "print(data)\n"
      ],
      "metadata": {
        "id": "IVt_-ZxTDu1f"
      },
      "execution_count": null,
      "outputs": []
    },
    {
      "cell_type": "markdown",
      "source": [
        "AGENT"
      ],
      "metadata": {
        "id": "1b6IA0mH7eDf"
      }
    },
    {
      "cell_type": "code",
      "source": [
        "researcher_paper_scrapper=Agent(\n",
        "role=\"Senior Paper Researcher\",\n",
        "goal='Make lists of the top research paper scrapped from web of topic {topic}',\n",
        "\n",
        "backstory=(\n",
        "    \"Driven by curiosity, you're at the forefront of\"\n",
        "    \"innovation, eager to explore and share knowlegde that could change\"\n",
        "    \"the world , you have expertise in listing the top research paper of topic {topic},\"\n",
        "    \"you are friendly and accurate about you work to list research paper\"\n",
        "),\n",
        "tools=[tool],\n",
        "llm=llm,\n",
        "allow_delegation=True\n",
        ")\n"
      ],
      "metadata": {
        "id": "waKo2FJu7Yge"
      },
      "execution_count": 23,
      "outputs": []
    },
    {
      "cell_type": "code",
      "source": [
        "researcher_paper_info=Agent(\n",
        "role=\"Senior Paper Researcher information\",\n",
        "goal='Make brief info of the top research paper scrapped from web of topic {topic} by agent researcher_paper_scrapper ',\n",
        "\n",
        "backstory=(\n",
        "    \"Driven by curiosity, you're at the forefront of\"\n",
        "    \"innovation, eager to explore and share knowlegde that could change\"\n",
        "    \"the world , you have expertise in making brief summary the top research paper of topic {topic} scrapped by researcher_paper_scrapper,\"\n",
        "    \"you are friendly and accurate about you work to make summary research paper\"\n",
        "),\n",
        "# tools=[tool],\n",
        "llm=llm,\n",
        "allow_delegation=True\n",
        ")"
      ],
      "metadata": {
        "id": "AJzlCyzJDS_n"
      },
      "execution_count": 24,
      "outputs": []
    },
    {
      "cell_type": "markdown",
      "source": [
        "TASK"
      ],
      "metadata": {
        "id": "jskztHAIBsc9"
      }
    },
    {
      "cell_type": "code",
      "source": [
        "paper_scraper_task = Task(\n",
        "    description=(\"This agent scrapes the research paper enter by user of topic {topic} \"\n",
        "        \"selecting the most appropriate answer based on the  real and perfect paper that helps to understand topic more accurately.\"\n",
        "        \"The agent uses an LLM to \"\n",
        "        \"generate the list of that research paper of topic {topic},\"\n",
        "    ),\n",
        "    expected_output=\"Give the list of top research paper of topic {topic}\",\n",
        "    agent=researcher_paper_scrapper,\n",
        ")"
      ],
      "metadata": {
        "id": "3VEpKWibBuox"
      },
      "execution_count": 25,
      "outputs": []
    },
    {
      "cell_type": "code",
      "source": [
        "paper_info_task = Task(\n",
        "    description=(\"This agent makes summary of the research paper enter by user of topic {topic} scrapped by researcher_paper_scrapper agent\"\n",
        "        \"selecting the most appropriate answer based on the real and perfect paper that helps to understand topic more accurately.\"\n",
        "        \"The agent uses an LLM to\"\n",
        "        \"generate the summary of that research paper of topic {topic} given by researcher_paper_scrapper agent\"\n",
        "    ),\n",
        "    expected_output=\"Give the list of top research paper of topic {topic}\",\n",
        "    agent=researcher_paper_info,\n",
        ")"
      ],
      "metadata": {
        "id": "eEHYAYgLEWtp"
      },
      "execution_count": 26,
      "outputs": []
    },
    {
      "cell_type": "code",
      "source": [
        "crew = Crew(\n",
        "  agents=[researcher_paper_scrapper,researcher_paper_info],\n",
        "  tasks=[paper_scraper_task, paper_info_task],\n",
        "  verbose=True\n",
        ")"
      ],
      "metadata": {
        "id": "YxV8LDYdFEar"
      },
      "execution_count": null,
      "outputs": []
    },
    {
      "cell_type": "code",
      "source": [
        "inputs = {\n",
        "    \"topic\": str(input(\"Enter Topic name to list research paper \\n\")),\n",
        "}\n",
        "result = crew.kickoff(inputs=inputs)"
      ],
      "metadata": {
        "id": "H6BCYpLGFUiJ"
      },
      "execution_count": null,
      "outputs": []
    },
    {
      "cell_type": "code",
      "source": [
        "from IPython.display import Markdown\n",
        "Markdown(result.raw)"
      ],
      "metadata": {
        "id": "mOybZqM-Fe0-"
      },
      "execution_count": null,
      "outputs": []
    }
  ]
}